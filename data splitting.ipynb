{
 "cells": [
  {
   "cell_type": "code",
   "execution_count": 1,
   "id": "7cc9a7d2",
   "metadata": {},
   "outputs": [],
   "source": [
    "from shutil import copy2\n",
    "from sklearn.model_selection import train_test_split\n",
    "import os\n",
    "import numpy as np\n",
    "from tqdm import tqdm"
   ]
  },
  {
   "cell_type": "code",
   "execution_count": 11,
   "id": "05ea3492",
   "metadata": {},
   "outputs": [],
   "source": [
    "data_path= \"/home/cvpia/felix_work/Fall2021_journal/Datasets/real_topos/stack/full/\"\n",
    "dest_train_path= \"/home/cvpia/felix_work/Fall2021_journal/Datasets/real_topos/stack/train_test/train/\"\n",
    "dest_test_path= \"/home/cvpia/felix_work/Fall2021_journal/Datasets/real_topos/stack/train_test/test/\""
   ]
  },
  {
   "cell_type": "code",
   "execution_count": 12,
   "id": "e3bb51e0",
   "metadata": {},
   "outputs": [],
   "source": [
    "def split(data_path,train_path,test_path,cl_level):\n",
    "    fnames=os.listdir(data_path+cl_level)\n",
    "    f_train,f_test,yt,yes=train_test_split(fnames,range(len(fnames)),test_size=0.3)\n",
    "    \n",
    "    for file in tqdm(f_train):\n",
    "        copy2(data_path+cl_level+\"/\"+file,train_path+cl_level)\n",
    "    for file in tqdm(f_test):\n",
    "        copy2(data_path+cl_level+\"/\"+file,test_path+cl_level+\"/\")"
   ]
  },
  {
   "cell_type": "code",
   "execution_count": 13,
   "id": "ee4e5a53",
   "metadata": {},
   "outputs": [
    {
     "name": "stderr",
     "output_type": "stream",
     "text": [
      "100%|██████████| 7700/7700 [00:02<00:00, 3728.39it/s]\n",
      "100%|██████████| 3300/3300 [00:00<00:00, 3798.08it/s]\n",
      "100%|██████████| 7700/7700 [00:03<00:00, 2276.00it/s]\n",
      "100%|██████████| 3300/3300 [00:00<00:00, 3750.61it/s]\n",
      "100%|██████████| 7700/7700 [00:02<00:00, 3729.10it/s]\n",
      "100%|██████████| 3300/3300 [00:00<00:00, 3631.30it/s]\n",
      "100%|██████████| 7700/7700 [00:02<00:00, 3650.24it/s]\n",
      "100%|██████████| 3300/3300 [00:00<00:00, 3730.23it/s]\n"
     ]
    }
   ],
   "source": [
    "split(data_path,dest_train_path,dest_test_path,\"cl2\")\n",
    "split(data_path,dest_train_path,dest_test_path,\"cl4\")\n",
    "split(data_path,dest_train_path,dest_test_path,\"cl6\")\n",
    "split(data_path,dest_train_path,dest_test_path,\"cl8\")"
   ]
  },
  {
   "cell_type": "code",
   "execution_count": null,
   "id": "a09e7689",
   "metadata": {},
   "outputs": [],
   "source": []
  },
  {
   "cell_type": "code",
   "execution_count": null,
   "id": "b0236115",
   "metadata": {},
   "outputs": [],
   "source": []
  },
  {
   "cell_type": "code",
   "execution_count": null,
   "id": "a715c0d2",
   "metadata": {},
   "outputs": [],
   "source": []
  },
  {
   "cell_type": "code",
   "execution_count": 23,
   "id": "1497c02c",
   "metadata": {},
   "outputs": [
    {
     "name": "stderr",
     "output_type": "stream",
     "text": [
      "100%|██████████| 7700/7700 [00:00<00:00, 11499.82it/s]\n"
     ]
    }
   ],
   "source": [
    "for file in tqdm(f_train):\n",
    "    copy2(data_path+file,dest_train_path)"
   ]
  },
  {
   "cell_type": "code",
   "execution_count": null,
   "id": "00b899fd",
   "metadata": {},
   "outputs": [],
   "source": [
    "print(len(os.listdir(dest_test_path)))"
   ]
  },
  {
   "cell_type": "code",
   "execution_count": 1,
   "id": "258c8604",
   "metadata": {},
   "outputs": [],
   "source": [
    "import tensorflow as tf"
   ]
  },
  {
   "cell_type": "code",
   "execution_count": 2,
   "id": "cdd15bf6",
   "metadata": {},
   "outputs": [
    {
     "data": {
      "text/plain": [
       "[]"
      ]
     },
     "execution_count": 2,
     "metadata": {},
     "output_type": "execute_result"
    }
   ],
   "source": [
    "tf.config.list_physical_devices('GPU')"
   ]
  }
 ],
 "metadata": {
  "kernelspec": {
   "display_name": "Python 3",
   "language": "python",
   "name": "python3"
  },
  "language_info": {
   "codemirror_mode": {
    "name": "ipython",
    "version": 3
   },
   "file_extension": ".py",
   "mimetype": "text/x-python",
   "name": "python",
   "nbconvert_exporter": "python",
   "pygments_lexer": "ipython3",
   "version": "3.8.10"
  }
 },
 "nbformat": 4,
 "nbformat_minor": 5
}
