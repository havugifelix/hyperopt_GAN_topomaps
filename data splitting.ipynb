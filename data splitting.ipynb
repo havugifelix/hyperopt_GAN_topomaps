{
 "cells": [
  {
   "cell_type": "code",
   "execution_count": 1,
   "id": "5ec4d5df",
   "metadata": {},
   "outputs": [],
   "source": [
    "from shutil import copy2\n",
    "from sklearn.model_selection import train_test_split\n",
    "import os\n",
    "import numpy as np\n",
    "from tqdm import tqdm"
   ]
  },
  {
   "cell_type": "code",
   "execution_count": 17,
   "id": "2c460584",
   "metadata": {},
   "outputs": [],
   "source": [
    "data_path=      \"/home/cvpia/felix_work/Fall2021_journal/Datasets/topos_GAN+REAL/alpha/full_data/cl8/\"\n",
    "dest_train_path= \"/home/cvpia/felix_work/Fall2021_journal/Datasets/topos_GAN+REAL/alpha/train_test/train/cl8/\"\n",
    "dest_test_path= \"/home/cvpia/felix_work/Fall2021_journal/Datasets/topos_GAN+REAL/alpha/train_test/test/cl8/\""
   ]
  },
  {
   "cell_type": "code",
   "execution_count": 18,
   "id": "4f4ee883",
   "metadata": {},
   "outputs": [],
   "source": [
    "fnames=os.listdir(data_path)\n",
    "f_train,f_test,yt,yes=train_test_split(fnames,range(len(fnames)),test_size=0.3)"
   ]
  },
  {
   "cell_type": "code",
   "execution_count": 20,
   "id": "507bc981",
   "metadata": {},
   "outputs": [
    {
     "name": "stderr",
     "output_type": "stream",
     "text": [
      "100%|██████████| 7700/7700 [00:02<00:00, 3496.24it/s]\n"
     ]
    }
   ],
   "source": [
    "for file in tqdm(f_train):\n",
    "    copy2(data_path+file,dest_train_path)"
   ]
  },
  {
   "cell_type": "code",
   "execution_count": null,
   "id": "3ab6d6b9",
   "metadata": {},
   "outputs": [],
   "source": [
    "print(len(os.listdir(dest_test_path)))"
   ]
  },
  {
   "cell_type": "code",
   "execution_count": null,
   "id": "ed15fc8c",
   "metadata": {},
   "outputs": [],
   "source": [
    "import tensorflow as "
   ]
  }
 ],
 "metadata": {
  "kernelspec": {
   "display_name": "Python 3",
   "language": "python",
   "name": "python3"
  },
  "language_info": {
   "codemirror_mode": {
    "name": "ipython",
    "version": 3
   },
   "file_extension": ".py",
   "mimetype": "text/x-python",
   "name": "python",
   "nbconvert_exporter": "python",
   "pygments_lexer": "ipython3",
   "version": "3.8.10"
  }
 },
 "nbformat": 4,
 "nbformat_minor": 5
}
