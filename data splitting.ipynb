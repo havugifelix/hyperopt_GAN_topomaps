{
 "cells": [
  {
   "cell_type": "code",
   "execution_count": 1,
   "id": "4bb0d50c",
   "metadata": {},
   "outputs": [],
   "source": [
    "from shutil import copy2\n",
    "from sklearn.model_selection import train_test_split\n",
    "import os\n",
    "import numpy as np\n",
    "from tqdm import tqdm"
   ]
  },
  {
   "cell_type": "code",
   "execution_count": 20,
   "id": "c7ae1d7b",
   "metadata": {},
   "outputs": [],
   "source": [
    "data_path=      \"/home/cvpia/felix_work/Fall2021_journal/Datasets/topos_GAN+REAL/stack/full/cl6/\"\n",
    "dest_train_path= \"/home/cvpia/felix_work/Fall2021_journal/Datasets/topos_GAN+REAL/stack/train_test/train/cl6/\"\n",
    "dest_test_path= \"/home/cvpia/felix_work/Fall2021_journal/Datasets/topos_GAN+REAL/stack/train_test/test/cl6/\""
   ]
  },
  {
   "cell_type": "code",
   "execution_count": 21,
   "id": "dfa93a78",
   "metadata": {},
   "outputs": [],
   "source": [
    "fnames=os.listdir(data_path)\n",
    "f_train,f_test,yt,yes=train_test_split(fnames,range(len(fnames)),test_size=0.3)"
   ]
  },
  {
   "cell_type": "code",
   "execution_count": 23,
   "id": "e828cd65",
   "metadata": {},
   "outputs": [
    {
     "name": "stderr",
     "output_type": "stream",
     "text": [
      "100%|██████████| 7700/7700 [00:00<00:00, 11499.82it/s]\n"
     ]
    }
   ],
   "source": [
    "for file in tqdm(f_train):\n",
    "    copy2(data_path+file,dest_train_path)"
   ]
  },
  {
   "cell_type": "code",
   "execution_count": null,
   "id": "ea2f7e42",
   "metadata": {},
   "outputs": [],
   "source": [
    "print(len(os.listdir(dest_test_path)))"
   ]
  },
  {
   "cell_type": "code",
   "execution_count": 1,
   "id": "c883b882",
   "metadata": {},
   "outputs": [],
   "source": [
    "import tensorflow as tf"
   ]
  },
  {
   "cell_type": "code",
   "execution_count": 2,
   "id": "c5e9dc5c",
   "metadata": {},
   "outputs": [
    {
     "data": {
      "text/plain": [
       "[]"
      ]
     },
     "execution_count": 2,
     "metadata": {},
     "output_type": "execute_result"
    }
   ],
   "source": [
    "tf.config.list_physical_devices('GPU')"
   ]
  }
 ],
 "metadata": {
  "kernelspec": {
   "display_name": "Python 3",
   "language": "python",
   "name": "python3"
  },
  "language_info": {
   "codemirror_mode": {
    "name": "ipython",
    "version": 3
   },
   "file_extension": ".py",
   "mimetype": "text/x-python",
   "name": "python",
   "nbconvert_exporter": "python",
   "pygments_lexer": "ipython3",
   "version": "3.8.10"
  }
 },
 "nbformat": 4,
 "nbformat_minor": 5
}
